{
  "nbformat": 4,
  "nbformat_minor": 0,
  "metadata": {
    "colab": {
      "provenance": [],
      "authorship_tag": "ABX9TyM4Zdj5Ldt+8xhbJximpOZm",
      "include_colab_link": true
    },
    "kernelspec": {
      "name": "python3",
      "display_name": "Python 3"
    },
    "language_info": {
      "name": "python"
    }
  },
  "cells": [
    {
      "cell_type": "markdown",
      "metadata": {
        "id": "view-in-github",
        "colab_type": "text"
      },
      "source": [
        "<a href=\"https://colab.research.google.com/github/kunstmann-leo/F-rmula-de-peso-ideal/blob/main/F%C3%B3rmula__do___peso___ideal.ipynb\" target=\"_parent\"><img src=\"https://colab.research.google.com/assets/colab-badge.svg\" alt=\"Open In Colab\"/></a>"
      ]
    },
    {
      "cell_type": "code",
      "execution_count": null,
      "metadata": {
        "id": "cp2PL_h4Viy6"
      },
      "outputs": [],
      "source": []
    },
    {
      "cell_type": "markdown",
      "source": [],
      "metadata": {
        "id": "30-KhfPBWd3F"
      }
    },
    {
      "cell_type": "code",
      "source": [
        "genero=input(\"M para Masculino e F para feminino?\").upper()\n",
        "\n",
        "altura=float(input(\"Digite a sua altura \"))\n",
        "\n",
        "pesoIdealM= ((72.7 * altura) - 58)\n",
        "\n",
        "pesoIdealF= ((62.1 * altura) - 44.7)\n",
        "\n",
        "if genero == \"M\":\n",
        "\n",
        "  print(\"Seu peso ideal é:\" , (round(pesoIdealM, 2)))\n",
        "else:\n",
        "\n",
        "   print(\"Seu peso ideal é: \" , (round(pesoIdealF, 2)))"
      ],
      "metadata": {
        "colab": {
          "base_uri": "https://localhost:8080/"
        },
        "id": "6hZ8y-gqgxlx",
        "outputId": "74b3b321-bb01-4b98-810d-c9060d2e6a2e"
      },
      "execution_count": 14,
      "outputs": [
        {
          "output_type": "stream",
          "name": "stdout",
          "text": [
            "M para Masculino e F para feminino?m\n",
            "Digite a sua altura 1.87\n",
            "Seu peso ideal é: 77.95\n"
          ]
        }
      ]
    }
  ]
}